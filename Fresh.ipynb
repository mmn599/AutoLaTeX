{
 "cells": [
  {
   "cell_type": "code",
   "execution_count": 1,
   "metadata": {
    "collapsed": false
   },
   "outputs": [],
   "source": [
    "%load_ext autoreload\n",
    "%autoreload 2\n",
    "import predict\n",
    "import glob\n",
    "import skimage\n",
    "import sklearn\n",
    "import numpy as np\n",
    "from sklearn import pipeline"
   ]
  },
  {
   "cell_type": "code",
   "execution_count": 2,
   "metadata": {
    "collapsed": false
   },
   "outputs": [],
   "source": [
    "# y = []\n",
    "# irawsymbols = []\n",
    "# datadir = 'data/MYDATA/train/*.png'\n",
    "# for name in glob.glob(datadir):\n",
    "#     symbol = name.split('_')[1].replace(\".png\",\"\")\n",
    "#     ilabels, irawsymbol = predict.file_to_raw_symbols(name, single_symbol=True) \n",
    "#     irawsymbol = np.squeeze(irawsymbol)\n",
    "#     irawsymbols.append(irawsymbol)\n",
    "#     y.append(symbol)\n",
    "    \n",
    "# sklearn.externals.joblib.dump(irawsymbols, 'data/MYDATA/irawsymbols.p')\n",
    "# sklearn.externals.joblib.dump(y, 'data/MYDATA/y.p')"
   ]
  },
  {
   "cell_type": "code",
   "execution_count": 2,
   "metadata": {
    "collapsed": false
   },
   "outputs": [],
   "source": [
    "from matplotlib import pyplot as plt\n",
    "%matplotlib inline\n",
    "from sklearn.externals import joblib\n",
    "y = joblib.load('data/MYDATA/symbols.p')\n",
    "X = joblib.load('data/MYDATA/irawsymbols.p')"
   ]
  },
  {
   "cell_type": "code",
   "execution_count": 4,
   "metadata": {
    "collapsed": false
   },
   "outputs": [],
   "source": [
    "def myresize(images, image_size):\n",
    "    inp_processedz = np.zeros((len(images), image_size[0] * image_size[1]))\n",
    "    iprocessedz = np.zeros((len(images), image_size[0], image_size[1]))\n",
    "    for i, image in enumerate(images):\n",
    "        image = image.squeeze()\n",
    "        image = skimage.filters.gaussian(image, 1)\n",
    "#         image = skimage.filters.rank.mean(image, skimage.morphology.selem.disk(3))\n",
    "        image = skimage.transform.resize(image, image_size)\n",
    "        iprocessedz[i, :, :] = image\n",
    "        inp_processedz[i, :] = image.flatten()\n",
    "    return inp_processedz, iprocessedz\n",
    "\n",
    "def get_hog(images):\n",
    "    shape = len(skimage.feature.hog(images[0]))\n",
    "    Xt = np.zeros((len(images), shape))\n",
    "    for i, image in enumerate(images):\n",
    "        Xt[i, :] = skimage.feature.hog(image)\n",
    "    return Xt\n",
    "\n",
    "def imagets1(images):\n",
    "    image_size = (40,40)\n",
    "    X, Ximages = myresize(images, image_size)\n",
    "    Xt = get_hog(Ximages)\n",
    "    return Xt\n",
    "\n",
    "def imagets2(images):\n",
    "    image_size = (40,40)\n",
    "    X, Ximages = myresize(images, image_size)\n",
    "    Xt = get_hog(Ximages)\n",
    "    Xret = np.concatenate((X, Xt), axis=1)\n",
    "    return Xret\n",
    "\n",
    "Xt1 = imagets1(X)"
   ]
  },
  {
   "cell_type": "code",
   "execution_count": 5,
   "metadata": {
    "collapsed": false
   },
   "outputs": [
    {
     "data": {
      "text/plain": [
       "GridSearchCV(cv=None, error_score='raise',\n",
       "       estimator=Pipeline(steps=[('reduce_dim', PCA(copy=True, iterated_power='auto', n_components=None, random_state=None,\n",
       "  svd_solver='auto', tol=0.0, whiten=False)), ('clf', MLPClassifier(activation='relu', alpha=0.0001, batch_size='auto', beta_1=0.9,\n",
       "       beta_2=0.999, early_stopping=False, epsilon=1e-08,\n",
       "       hidde...=True, solver='adam', tol=0.0001, validation_fraction=0.1,\n",
       "       verbose=False, warm_start=False))]),\n",
       "       fit_params={}, iid=True, n_jobs=1,\n",
       "       param_grid=[{'clf__hidden_layer_sizes': [100], 'reduce_dim__n_components': [70, 80, 85, 90, 100], 'clf': [MLPClassifier(activation='relu', alpha=0.0001, batch_size='auto', beta_1=0.9,\n",
       "       beta_2=0.999, early_stopping=False, epsilon=1e-08,\n",
       "       hidden_layer_sizes=100, learning_rate='constant',\n",
       " ...True, solver='adam', tol=0.0001, validation_fraction=0.1,\n",
       "       verbose=False, warm_start=False)]}],\n",
       "       pre_dispatch='2*n_jobs', refit=True, return_train_score=True,\n",
       "       scoring=None, verbose=0)"
      ]
     },
     "execution_count": 5,
     "metadata": {},
     "output_type": "execute_result"
    }
   ],
   "source": [
    "estimators = [ \n",
    "                (('reduce_dim'), sklearn.decomposition.PCA()),\n",
    "                (('clf', sklearn.neural_network.MLPClassifier()))]\n",
    "pipe = pipeline.Pipeline(estimators)\n",
    "param_grid = [\n",
    "    { \n",
    "        'reduce_dim__n_components' : [70, 80, 85, 90, 100],\n",
    "        'clf__hidden_layer_sizes' : [100],\n",
    "        'clf' : [sklearn.neural_network.MLPClassifier()]  \n",
    "    },\n",
    "]\n",
    "\n",
    "grid_search = sklearn.model_selection.GridSearchCV(pipe, param_grid=param_grid)\n",
    "grid_search.fit(Xt1, y)"
   ]
  },
  {
   "cell_type": "code",
   "execution_count": 6,
   "metadata": {
    "collapsed": false
   },
   "outputs": [
    {
     "name": "stdout",
     "output_type": "stream",
     "text": [
      "0.978947368421\n",
      "('reduce_dim', PCA(copy=True, iterated_power='auto', n_components=100, random_state=None,\n",
      "  svd_solver='auto', tol=0.0, whiten=False))\n"
     ]
    }
   ],
   "source": [
    "print(grid_search.best_score_)\n",
    "print(grid_search.best_estimator_.steps[0])"
   ]
  },
  {
   "cell_type": "code",
   "execution_count": 7,
   "metadata": {
    "collapsed": false
   },
   "outputs": [
    {
     "data": {
      "text/plain": [
       "['models/Pipe.p']"
      ]
     },
     "execution_count": 7,
     "metadata": {},
     "output_type": "execute_result"
    }
   ],
   "source": [
    "pipe = grid_search.best_estimator_\n",
    "joblib.dump(pipe, 'models/Pipe.p')"
   ]
  },
  {
   "cell_type": "code",
   "execution_count": null,
   "metadata": {
    "collapsed": true
   },
   "outputs": [],
   "source": []
  }
 ],
 "metadata": {
  "anaconda-cloud": {},
  "kernelspec": {
   "display_name": "Python [Root]",
   "language": "python",
   "name": "Python [Root]"
  },
  "language_info": {
   "codemirror_mode": {
    "name": "ipython",
    "version": 3
   },
   "file_extension": ".py",
   "mimetype": "text/x-python",
   "name": "python",
   "nbconvert_exporter": "python",
   "pygments_lexer": "ipython3",
   "version": "3.5.2"
  }
 },
 "nbformat": 4,
 "nbformat_minor": 0
}
