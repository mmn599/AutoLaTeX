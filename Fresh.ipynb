{
 "cells": [
  {
   "cell_type": "code",
   "execution_count": 1,
   "metadata": {
    "collapsed": true
   },
   "outputs": [],
   "source": [
    "%load_ext autoreload\n",
    "%autoreload 2"
   ]
  },
  {
   "cell_type": "code",
   "execution_count": 66,
   "metadata": {
    "collapsed": false
   },
   "outputs": [
    {
     "data": {
      "text/plain": [
       "['data/MYDATA/symbols.p']"
      ]
     },
     "execution_count": 66,
     "metadata": {},
     "output_type": "execute_result"
    }
   ],
   "source": [
    "import predict\n",
    "import glob\n",
    "import skimage\n",
    "import sklearn\n",
    "import numpy as np\n",
    "\n",
    "def raw_symbols_to_input(irawsymbols, image_size):\n",
    "    iprocessed = skimage.filters.gaussian(irawsymbols, 1)\n",
    "    X = skimage.transform.resize(iprocessed, output_shape=(len(iprocessed), image_size[0], image_size[1]))\n",
    "    return X\n",
    "\n",
    "y = []\n",
    "X = []\n",
    "datadir = 'data/MYDATA/train/*.png'\n",
    "for name in glob.glob(datadir):\n",
    "    symbol = name.split('_')[1].replace(\".png\",\"\")\n",
    "    ilabels, irawsymbols = predict.file_to_raw_symbols(name, single_symbol=True)\n",
    "    inputsymbols = raw_symbols_to_input(irawsymbols, (50, 50))    \n",
    "    X.append(inputsymbols.flatten())\n",
    "    y.append(symbol)\n",
    "    \n",
    "X = np.array(X)\n",
    "X = np.squeeze(X)\n",
    "sklearn.externals.joblib.dump(X, 'data/MYDATA/images_symbols.p')\n",
    "sklearn.externals.joblib.dump(y, 'data/MYDATA/symbols.p')"
   ]
  },
  {
   "cell_type": "code",
   "execution_count": 87,
   "metadata": {
    "collapsed": false
   },
   "outputs": [],
   "source": [
    "from matplotlib import pyplot as plt\n",
    "%matplotlib inline\n",
    "from sklearn.externals import joblib\n",
    "y = joblib.load('data/MYDATA/symbols.p')\n",
    "X = joblib.load('data/MYDATA/images_symbols.p')"
   ]
  },
  {
   "cell_type": "code",
   "execution_count": 88,
   "metadata": {
    "collapsed": false
   },
   "outputs": [],
   "source": [
    "def my_transform(X):\n",
    "    images = X.reshape((1330, 50, 50))\n",
    "    hogs = []\n",
    "    for image in images:\n",
    "        fd = skimage.feature.hog(image)\n",
    "        hogs.append(fd)\n",
    "    hogs = np.array(hogs)\n",
    "    return np.array(hogs)"
   ]
  },
  {
   "cell_type": "code",
   "execution_count": 107,
   "metadata": {
    "collapsed": false
   },
   "outputs": [
    {
     "data": {
      "text/plain": [
       "GridSearchCV(cv=None, error_score='raise',\n",
       "       estimator=Pipeline(steps=[('reduce_dim', PCA(copy=True, iterated_power='auto', n_components=None, random_state=None,\n",
       "  svd_solver='auto', tol=0.0, whiten=False)), ('clf', MLPClassifier(activation='relu', alpha=0.0001, batch_size='auto', beta_1=0.9,\n",
       "       beta_2=0.999, early_stopping=False, epsilon=1e-08,\n",
       "       hidde...=True, solver='adam', tol=0.0001, validation_fraction=0.1,\n",
       "       verbose=False, warm_start=False))]),\n",
       "       fit_params={}, iid=True, n_jobs=4,\n",
       "       param_grid=[{'clf__alpha': [0.0001, 0.001, 0.0005, 0.005], 'reduce_dim__n_components': [60], 'clf': [MLPClassifier(activation='relu', alpha=0.0001, batch_size='auto', beta_1=0.9,\n",
       "       beta_2=0.999, early_stopping=False, epsilon=1e-08,\n",
       "       hidden_layer_sizes=(100,), learning_rate='constant',\n",
       "   ...='SAMME.R', base_estimator=None,\n",
       "          learning_rate=1.0, n_estimators=50, random_state=None)]}],\n",
       "       pre_dispatch='2*n_jobs', refit=True, return_train_score=True,\n",
       "       scoring=None, verbose=0)"
      ]
     },
     "execution_count": 107,
     "metadata": {},
     "output_type": "execute_result"
    }
   ],
   "source": [
    "Xt = my_transform(X)\n",
    "\n",
    "from sklearn import ensemble\n",
    "\n",
    "estimators = [(('reduce_dim'), sklearn.decomposition.PCA()),\n",
    "             (('clf', sklearn.neural_network.MLPClassifier()))]\n",
    "pipe = sklearn.pipeline.Pipeline(estimators)\n",
    "param_grid = [\n",
    "    { \n",
    "        'reduce_dim__n_components' : [60],\n",
    "        'clf__hidden_layer_sizes' : [(100,)],\n",
    "        'clf__alpha' : [.0001, .001, .0005, .005],\n",
    "        'clf' : [sklearn.neural_network.MLPClassifier()]  \n",
    "    },\n",
    "    {\n",
    "        'reduce_dim__n_components' : [40,50,60],\n",
    "        'clf__n_estimators' : [50, 100, 200],\n",
    "        'clf' : [ensemble.AdaBoostClassifier()]        \n",
    "    },\n",
    "]\n",
    "grid_search = sklearn.model_selection.GridSearchCV(pipe, param_grid=param_grid, n_jobs=4)\n",
    "grid_search.fit(Xt, y)"
   ]
  },
  {
   "cell_type": "code",
   "execution_count": 108,
   "metadata": {
    "collapsed": false
   },
   "outputs": [
    {
     "name": "stdout",
     "output_type": "stream",
     "text": [
      "0.951879699248\n",
      "{'clf__alpha': 0.0005, 'reduce_dim__n_components': 60, 'clf': MLPClassifier(activation='relu', alpha=0.0005, batch_size='auto', beta_1=0.9,\n",
      "       beta_2=0.999, early_stopping=False, epsilon=1e-08,\n",
      "       hidden_layer_sizes=(100,), learning_rate='constant',\n",
      "       learning_rate_init=0.001, max_iter=200, momentum=0.9,\n",
      "       nesterovs_momentum=True, power_t=0.5, random_state=None,\n",
      "       shuffle=True, solver='adam', tol=0.0001, validation_fraction=0.1,\n",
      "       verbose=False, warm_start=False), 'clf__hidden_layer_sizes': (100,)}\n"
     ]
    }
   ],
   "source": [
    "print(grid_search.best_score_)\n",
    "print(grid_search.best_params_)"
   ]
  },
  {
   "cell_type": "code",
   "execution_count": 110,
   "metadata": {
    "collapsed": false
   },
   "outputs": [
    {
     "name": "stdout",
     "output_type": "stream",
     "text": [
      "Pipeline(steps=[('reduce_dim', PCA(copy=True, iterated_power='auto', n_components=60, random_state=None,\n",
      "  svd_solver='auto', tol=0.0, whiten=False)), ('clf', MLPClassifier(activation='relu', alpha=0.0005, batch_size='auto', beta_1=0.9,\n",
      "       beta_2=0.999, early_stopping=False, epsilon=1e-08,\n",
      "       hidden_...=True, solver='adam', tol=0.0001, validation_fraction=0.1,\n",
      "       verbose=False, warm_start=False))])\n"
     ]
    }
   ],
   "source": [
    "pipe = grid_search.best_estimator_"
   ]
  },
  {
   "cell_type": "code",
   "execution_count": null,
   "metadata": {
    "collapsed": true
   },
   "outputs": [],
   "source": []
  }
 ],
 "metadata": {
  "anaconda-cloud": {},
  "kernelspec": {
   "display_name": "Python [Root]",
   "language": "python",
   "name": "Python [Root]"
  },
  "language_info": {
   "codemirror_mode": {
    "name": "ipython",
    "version": 3
   },
   "file_extension": ".py",
   "mimetype": "text/x-python",
   "name": "python",
   "nbconvert_exporter": "python",
   "pygments_lexer": "ipython3",
   "version": "3.5.2"
  }
 },
 "nbformat": 4,
 "nbformat_minor": 0
}
