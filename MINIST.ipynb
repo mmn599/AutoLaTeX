{
 "cells": [
  {
   "cell_type": "code",
   "execution_count": 1,
   "metadata": {
    "collapsed": false
   },
   "outputs": [
    {
     "data": {
      "text/plain": [
       "0.99914285714285711"
      ]
     },
     "execution_count": 1,
     "metadata": {},
     "output_type": "execute_result"
    }
   ],
   "source": [
    "%matplotlib inline\n",
    "from matplotlib import pyplot as plt\n",
    "import pandas as pd\n",
    "import preprocessing as pp\n",
    "import numpy as np\n",
    "from IPython.core import display as ICD\n",
    "from skimage.feature import hog\n",
    "from sklearn.svm import LinearSVC\n",
    "from sklearn.neural_network import MLPClassifier\n",
    "from sklearn.externals import joblib\n",
    "from PIL import Image\n",
    "from skimage import morphology\n",
    "import preprocessing as pp\n",
    "import predict as magic\n",
    "import cv2\n",
    "from skimage.feature import hog\n",
    "\n",
    "train = pd.read_csv('data/MINIST/train.csv')\n",
    "yt = train['label'].as_matrix()\n",
    "Xt = train.drop('label', 1).as_matrix()\n",
    "Xt[Xt > 0] = 1\n",
    "mlp = MLPClassifier()\n",
    "mlp.fit(Xt, yt)\n",
    "joblib.dump(mlp,\"MLP.p\")\n",
    "mlp.score(Xt, yt)"
   ]
  },
  {
   "cell_type": "code",
   "execution_count": 16,
   "metadata": {
    "collapsed": false
   },
   "outputs": [
    {
     "name": "stdout",
     "output_type": "stream",
     "text": [
      "[2]\n"
     ]
    }
   ],
   "source": [
    "image = np.asarray(Image.open('4.gif'), 'float64')\n",
    "image = 1 - image\n",
    "# image = morphology.binary_closing(image, morphology.square(5)).astype(np.float)\n",
    "# image[image==True] = 1\n",
    "# image[image==False] = 0\n",
    "image = cv2.resize(image, (28,28), interpolation=cv2.INTER_AREA)\n",
    "image = image.flatten()\n",
    "ypred = mlp.predict(np.array([image]))\n",
    "print(ypred)"
   ]
  },
  {
   "cell_type": "code",
   "execution_count": null,
   "metadata": {
    "collapsed": true
   },
   "outputs": [],
   "source": []
  }
 ],
 "metadata": {
  "anaconda-cloud": {},
  "kernelspec": {
   "display_name": "Python [Root]",
   "language": "python",
   "name": "Python [Root]"
  },
  "language_info": {
   "codemirror_mode": {
    "name": "ipython",
    "version": 3
   },
   "file_extension": ".py",
   "mimetype": "text/x-python",
   "name": "python",
   "nbconvert_exporter": "python",
   "pygments_lexer": "ipython3",
   "version": "3.5.2"
  }
 },
 "nbformat": 4,
 "nbformat_minor": 0
}
