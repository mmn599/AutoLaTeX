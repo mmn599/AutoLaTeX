{
 "cells": [
  {
   "cell_type": "code",
   "execution_count": 4,
   "metadata": {
    "collapsed": false
   },
   "outputs": [],
   "source": [
    "import glob\n",
    "from skimage import io\n",
    "from skimage import color\n",
    "from skimage.transform import resize\n",
    "from matplotlib import pyplot as plt\n",
    "import cv2\n",
    "import numpy as np\n",
    "from sklearn.decomposition import PCA\n",
    "%load_ext autoreload\n",
    "%autoreload 2\n",
    "import predict\n",
    "%matplotlib inline"
   ]
  },
  {
   "cell_type": "code",
   "execution_count": 6,
   "metadata": {
    "collapsed": false
   },
   "outputs": [],
   "source": [
    "import predict\n",
    "\n",
    "traindir = 'data/MYDATA/train/'\n",
    "X, y, processed_images, original_images = predict.get_custom_data(traindir, (28, 28))\n",
    "\n",
    "# fn = 'data/MYDATA/train/449_j.png'\n",
    "# image = io.imread(fn)\n",
    "# plt.imshow(image, cmap=\"Greys_r\")\n",
    "# plt.show()\n",
    "\n",
    "# irawsymbols = predict.file_to_raw_symbols(fn, True)\n",
    "\n",
    "# for image, symbol in zip(trainimages, ytrain):\n",
    "#     plt.imshow(image, cmap=\"Greys_r\")\n",
    "#     plt.title(symbol)\n",
    "#     plt.show()"
   ]
  },
  {
   "cell_type": "code",
   "execution_count": 10,
   "metadata": {
    "collapsed": false
   },
   "outputs": [],
   "source": [
    "from sklearn.neural_network import MLPClassifier\n",
    "\n",
    "from sklearn.model_selection import cross_val_score\n",
    "from sklearn.metrics import confusion_matrix\n",
    "from sklearn.svm import SVC\n",
    "from sklearn.svm import LinearSVC\n",
    "from sklearn.ensemble import AdaBoostClassifier\n",
    "\n",
    "transforms = [\n",
    "    PCA(n_components=3),\n",
    "    PCA(n_components=5),\n",
    "    PCA(n_components=10),\n",
    "    PCA(n_components=15),\n",
    "    PCA(n_components=20),\n",
    "    PCA(n_components=25),\n",
    "    PCA(n_components=30),\n",
    "    PCA(n_components=35)\n",
    "]\n",
    "\n",
    "models = [\n",
    "    MLPClassifier(max_iter=300),\n",
    "    MLPClassifier(hidden_layer_sizes=(100,100), max_iter=300),\n",
    "    SVC(),\n",
    "    SVC(decision_function_shape='ovo'),\n",
    "    LinearSVC(),\n",
    "    AdaBoostClassifier(n_estimators=100)\n",
    "]\n",
    "\n",
    "for ts in transforms:\n",
    "    ts.fit(X)\n",
    "\n",
    "bscore = 0\n",
    "for model in models:\n",
    "    for ts in transforms:\n",
    "        Xts = ts.transform(X)\n",
    "        score = np.mean(cross_val_score(model, Xts, y, cv=5))\n",
    "        if(score > bscore):\n",
    "            bmodel = model\n",
    "            bts = ts\n",
    "            bscore = score"
   ]
  },
  {
   "cell_type": "code",
   "execution_count": 11,
   "metadata": {
    "collapsed": false
   },
   "outputs": [
    {
     "name": "stdout",
     "output_type": "stream",
     "text": [
      "0.976059332377\n",
      "PCA(copy=True, iterated_power='auto', n_components=25, random_state=None,\n",
      "  svd_solver='auto', tol=0.0, whiten=False)\n",
      "MLPClassifier(activation='relu', alpha=0.0001, batch_size='auto', beta_1=0.9,\n",
      "       beta_2=0.999, early_stopping=False, epsilon=1e-08,\n",
      "       hidden_layer_sizes=(100, 100), learning_rate='constant',\n",
      "       learning_rate_init=0.001, max_iter=300, momentum=0.9,\n",
      "       nesterovs_momentum=True, power_t=0.5, random_state=None,\n",
      "       shuffle=True, solver='adam', tol=0.0001, validation_fraction=0.1,\n",
      "       verbose=False, warm_start=False)\n"
     ]
    }
   ],
   "source": [
    "print(bscore)\n",
    "print(bts)\n",
    "print(bmodel)"
   ]
  },
  {
   "cell_type": "code",
   "execution_count": 14,
   "metadata": {
    "collapsed": false
   },
   "outputs": [
    {
     "name": "stdout",
     "output_type": "stream",
     "text": [
      "1.0\n"
     ]
    },
    {
     "data": {
      "text/plain": [
       "['PCACustom2.p']"
      ]
     },
     "execution_count": 14,
     "metadata": {},
     "output_type": "execute_result"
    }
   ],
   "source": [
    "from sklearn.externals import joblib\n",
    "\n",
    "Xts = bts.transform(X)\n",
    "bmodel.fit(Xts, y)\n",
    "print(bmodel.score(Xts, y))\n",
    "\n",
    "joblib.dump(bmodel, 'MLPCustom2.p')\n",
    "joblib.dump(bts, 'PCACustom2.p')"
   ]
  },
  {
   "cell_type": "code",
   "execution_count": null,
   "metadata": {
    "collapsed": true
   },
   "outputs": [],
   "source": []
  }
 ],
 "metadata": {
  "anaconda-cloud": {},
  "kernelspec": {
   "display_name": "Python [Root]",
   "language": "python",
   "name": "Python [Root]"
  },
  "language_info": {
   "codemirror_mode": {
    "name": "ipython",
    "version": 3
   },
   "file_extension": ".py",
   "mimetype": "text/x-python",
   "name": "python",
   "nbconvert_exporter": "python",
   "pygments_lexer": "ipython3",
   "version": "3.5.2"
  }
 },
 "nbformat": 4,
 "nbformat_minor": 0
}
