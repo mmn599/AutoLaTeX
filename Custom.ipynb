{
 "cells": [
  {
   "cell_type": "code",
   "execution_count": 4,
   "metadata": {
    "collapsed": false
   },
   "outputs": [],
   "source": [
    "import glob\n",
    "from skimage import io\n",
    "from skimage import color\n",
    "from skimage.transform import resize\n",
    "from matplotlib import pyplot as plt\n",
    "import cv2\n",
    "import numpy as np\n",
    "from sklearn.decomposition import PCA\n",
    "%load_ext autoreload\n",
    "%autoreload 2\n",
    "import predict\n",
    "%matplotlib inline"
   ]
  },
  {
   "cell_type": "code",
   "execution_count": 6,
   "metadata": {
    "collapsed": false
   },
   "outputs": [],
   "source": [
    "import predict\n",
    "\n",
    "traindir = 'data/MYDATA/train/'\n",
    "X, y, processed_images, original_images = predict.get_custom_data(traindir, (28, 28))\n",
    "\n",
    "# fn = 'data/MYDATA/train/449_j.png'\n",
    "# image = io.imread(fn)\n",
    "# plt.imshow(image, cmap=\"Greys_r\")\n",
    "# plt.show()\n",
    "\n",
    "# irawsymbols = predict.file_to_raw_symbols(fn, True)\n",
    "\n",
    "# for image, symbol in zip(trainimages, ytrain):\n",
    "#     plt.imshow(image, cmap=\"Greys_r\")\n",
    "#     plt.title(symbol)\n",
    "#     plt.show()"
   ]
  },
  {
   "cell_type": "code",
   "execution_count": null,
   "metadata": {
    "collapsed": false
   },
   "outputs": [],
   "source": [
    "from sklearn.neural_network import MLPClassifier\n",
    "\n",
    "from sklearn.model_selection import cross_val_score\n",
    "from sklearn.metrics import confusion_matrix\n",
    "from sklearn.svm import SVC\n",
    "from sklearn.svm import LinearSVC\n",
    "from sklearn.ensemble import AdaBoostClassifier\n",
    "\n",
    "transforms = [\n",
    "    PCA(n_components=3),\n",
    "    PCA(n_components=5),\n",
    "    PCA(n_components=10),\n",
    "    PCA(n_components=15),\n",
    "    PCA(n_components=20),\n",
    "    PCA(n_components=25),\n",
    "    PCA(n_components=30),\n",
    "    PCA(n_components=35)\n",
    "]\n",
    "\n",
    "models = [\n",
    "    MLPClassifier(max_iter=300),\n",
    "    MLPClassifier(hidden_layer_sizes=(100,100), max_iter=300),\n",
    "    SVC(),\n",
    "    SVC(decision_function_shape='ovo'),\n",
    "    LinearSVC(),\n",
    "    AdaBoostClassifier(n_estimators=100)\n",
    "]\n",
    "\n",
    "for ts in transforms:\n",
    "    ts.fit(X)\n",
    "\n",
    "bscore = 0\n",
    "for model in models:\n",
    "    for ts in transforms:\n",
    "        Xts = ts.transform(X)\n",
    "        score = np.mean(cross_val_score(model, Xts, y, cv=5))\n",
    "        if(score > bscore):\n",
    "            bmodel = model\n",
    "            bts = ts\n",
    "            bscore = score"
   ]
  },
  {
   "cell_type": "code",
   "execution_count": 3,
   "metadata": {
    "collapsed": false
   },
   "outputs": [
    {
     "ename": "NameError",
     "evalue": "name 'bscore' is not defined",
     "output_type": "error",
     "traceback": [
      "\u001b[1;31m\u001b[0m",
      "\u001b[1;31mNameError\u001b[0mTraceback (most recent call last)",
      "\u001b[1;32m<ipython-input-3-3ca1ce0d30f0>\u001b[0m in \u001b[0;36m<module>\u001b[1;34m()\u001b[0m\n\u001b[1;32m----> 1\u001b[1;33m \u001b[0mprint\u001b[0m\u001b[1;33m(\u001b[0m\u001b[0mbscore\u001b[0m\u001b[1;33m)\u001b[0m\u001b[1;33m\u001b[0m\u001b[0m\n\u001b[0m\u001b[0;32m      2\u001b[0m \u001b[0mprint\u001b[0m\u001b[1;33m(\u001b[0m\u001b[0mbts\u001b[0m\u001b[1;33m)\u001b[0m\u001b[1;33m\u001b[0m\u001b[0m\n\u001b[0;32m      3\u001b[0m \u001b[0mprint\u001b[0m\u001b[1;33m(\u001b[0m\u001b[0mbmodel\u001b[0m\u001b[1;33m)\u001b[0m\u001b[1;33m\u001b[0m\u001b[0m\n",
      "\u001b[1;31mNameError\u001b[0m: name 'bscore' is not defined"
     ]
    }
   ],
   "source": [
    "print(bscore)\n",
    "print(bts)\n",
    "print(bmodel)"
   ]
  },
  {
   "cell_type": "code",
   "execution_count": 96,
   "metadata": {
    "collapsed": false
   },
   "outputs": [
    {
     "name": "stdout",
     "output_type": "stream",
     "text": [
      "1.0\n"
     ]
    },
    {
     "data": {
      "text/plain": [
       "['PCACustom2.p']"
      ]
     },
     "execution_count": 96,
     "metadata": {},
     "output_type": "execute_result"
    }
   ],
   "source": [
    "from sklearn.externals import joblib\n",
    "\n",
    "Xtrain_ts = bts.transform(Xtrain)\n",
    "bmodel.fit(Xtrain_ts, ytrain)\n",
    "print(bmodel.score(Xtrain_ts, ytrain))\n",
    "\n",
    "joblib.dump(bmodel, 'MLPCustom2.p')\n",
    "joblib.dump(bts, 'PCACustom2.p')"
   ]
  },
  {
   "cell_type": "code",
   "execution_count": 8,
   "metadata": {
    "collapsed": false
   },
   "outputs": [
    {
     "name": "stdout",
     "output_type": "stream",
     "text": [
      "The autoreload extension is already loaded. To reload it, use:\n",
      "  %reload_ext autoreload\n"
     ]
    },
    {
     "data": {
      "image/png": "[encoded data removed]",
      "text/plain": [
       "<matplotlib.figure.Figure at 0x11a6f09a7b8>"
      ]
     },
     "metadata": {},
     "output_type": "display_data"
    },
    {
     "data": {
      "image/png": "[encoded data removed]",
      "text/plain": [
       "<matplotlib.figure.Figure at 0x11a6f1fb4a8>"
      ]
     },
     "metadata": {},
     "output_type": "display_data"
    },
    {
     "data": {
      "image/png": "[encoded data removed]",
      "text/plain": [
       "<matplotlib.figure.Figure at 0x11a6f0a9ef0>"
      ]
     },
     "metadata": {},
     "output_type": "display_data"
    },
    {
     "data": {
      "image/png": "[encoded data removed]",
      "text/plain": [
       "<matplotlib.figure.Figure at 0x11a71744940>"
      ]
     },
     "metadata": {},
     "output_type": "display_data"
    }
   ],
   "source": [
    "from skimage import measure\n",
    "from skimage import morphology\n",
    "from skimage import filters\n",
    "from skimage import feature\n",
    "from scipy import ndimage as ndi\n",
    "from skimage import io\n",
    "from skimage import color\n",
    "from matplotlib import pyplot as plt\n",
    "%load_ext autoreload\n",
    "%autoreload 2\n",
    "%matplotlib inline\n",
    "import numpy as np\n",
    "import predict\n",
    "import glob\n",
    "\n",
    "def find_label(image, label):\n",
    "    image_th = image.copy()\n",
    "    image_th[image == label] = 1\n",
    "    image_th[image != label] = 0\n",
    "    nz = np.nonzero(image_th)\n",
    "    rowmin = np.min(nz[0])\n",
    "    rowmax = np.max(nz[0])\n",
    "    colmin = np.min(nz[1])\n",
    "    colmax = np.max(nz[1])\n",
    "    return rowmin, rowmax, colmin, colmax\n",
    "\n",
    "for name in glob.glob('data/MYDATA/overall/*.png'):\n",
    "    ioverall = io.imread(name)\n",
    "    isymbols = predict.overall_to_symbols(ioverall)\n",
    "    plt.imshow(ioverall, cmap=\"Greys_r\")\n",
    "    plt.title(len(isymbols))\n",
    "    plt.axis('off')\n",
    "    plt.show()"
   ]
  },
  {
   "cell_type": "code",
   "execution_count": null,
   "metadata": {
    "collapsed": true
   },
   "outputs": [],
   "source": []
  }
 ],
 "metadata": {
  "anaconda-cloud": {},
  "kernelspec": {
   "display_name": "Python [Root]",
   "language": "python",
   "name": "Python [Root]"
  },
  "language_info": {
   "codemirror_mode": {
    "name": "ipython",
    "version": 3
   },
   "file_extension": ".py",
   "mimetype": "text/x-python",
   "name": "python",
   "nbconvert_exporter": "python",
   "pygments_lexer": "ipython3",
   "version": "3.5.2"
  }
 },
 "nbformat": 4,
 "nbformat_minor": 0
}
